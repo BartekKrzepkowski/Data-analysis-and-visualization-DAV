{
 "cells": [
  {
   "cell_type": "code",
   "execution_count": 1,
   "id": "deadly-mississippi",
   "metadata": {},
   "outputs": [],
   "source": [
    "%load_ext autoreload\n",
    "%autoreload 2"
   ]
  },
  {
   "cell_type": "code",
   "execution_count": 2,
   "id": "decreased-miniature",
   "metadata": {},
   "outputs": [],
   "source": [
    "import os\n",
    "import sys\n",
    "module_path = os.path.abspath(os.path.join('..'))\n",
    "if module_path not in sys.path:\n",
    "    sys.path.append(module_path)"
   ]
  },
  {
   "cell_type": "code",
   "execution_count": 3,
   "id": "better-innocent",
   "metadata": {},
   "outputs": [],
   "source": [
    "from scripts.tools import TotalPopulation"
   ]
  },
  {
   "cell_type": "code",
   "execution_count": 4,
   "id": "compatible-optics",
   "metadata": {},
   "outputs": [],
   "source": [
    "# names of data files\n",
    "DN = 'API_SP.POP.TOTL_DS2_en_csv_v2_2106202.csv'\n",
    "MDN = 'Metadata_Country_API_SP.POP.TOTL_DS2_en_csv_v2_2106202.csv'"
   ]
  },
  {
   "cell_type": "markdown",
   "id": "determined-albania",
   "metadata": {},
   "source": [
    "# Top 5 populated countries over time"
   ]
  },
  {
   "cell_type": "code",
   "execution_count": 5,
   "id": "revolutionary-scanner",
   "metadata": {
    "tags": []
   },
   "outputs": [],
   "source": [
    "tot_pop = TotalPopulation(data_name=DN, metadata_name=MDN, num=1)\n",
    "\n",
    "tot_pop.create_imgs_top5()\n",
    "\n",
    "tot_pop.create_gif(delay=25)"
   ]
  },
  {
   "cell_type": "markdown",
   "id": "surprising-public",
   "metadata": {
    "tags": []
   },
   "source": [
    "![](../images/hw1.gif)"
   ]
  },
  {
   "cell_type": "markdown",
   "id": "following-today",
   "metadata": {},
   "source": [
    "# Countries that are the closest by population size (to 5 random nations)"
   ]
  },
  {
   "cell_type": "code",
   "execution_count": 10,
   "id": "blocked-monthly",
   "metadata": {},
   "outputs": [],
   "source": [
    "tot_pop = TotalPopulation(data_name=DN, metadata_name=MDN, num=2)\n",
    "\n",
    "tot_pop.create_imgs_cn_random()"
   ]
  },
  {
   "cell_type": "markdown",
   "id": "russian-worst",
   "metadata": {},
   "source": [
    "![](../images/hw2.jpg)"
   ]
  },
  {
   "cell_type": "markdown",
   "id": "honey-river",
   "metadata": {},
   "source": [
    "# Countries that are the closest by population size to chosen nation over time"
   ]
  },
  {
   "cell_type": "code",
   "execution_count": 7,
   "id": "warming-pittsburgh",
   "metadata": {},
   "outputs": [],
   "source": [
    "tot_pop = TotalPopulation(data_name=DN, metadata_name=MDN, num=3)\n",
    "\n",
    "tot_pop.create_imgs_cn('Poland')\n",
    "\n",
    "tot_pop.create_gif(delay=60)"
   ]
  },
  {
   "cell_type": "markdown",
   "id": "tribal-boards",
   "metadata": {},
   "source": [
    "![](../images/hw3.gif)"
   ]
  },
  {
   "cell_type": "code",
   "execution_count": null,
   "id": "subsequent-throat",
   "metadata": {},
   "outputs": [],
   "source": []
  }
 ],
 "metadata": {
  "kernelspec": {
   "display_name": "tldl",
   "language": "python",
   "name": "tldl"
  },
  "language_info": {
   "codemirror_mode": {
    "name": "ipython",
    "version": 3
   },
   "file_extension": ".py",
   "mimetype": "text/x-python",
   "name": "python",
   "nbconvert_exporter": "python",
   "pygments_lexer": "ipython3",
   "version": "3.8.5"
  }
 },
 "nbformat": 4,
 "nbformat_minor": 5
}
